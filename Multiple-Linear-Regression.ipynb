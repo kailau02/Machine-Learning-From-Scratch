{
 "cells": [
  {
   "cell_type": "markdown",
   "id": "70499ad7-e5c3-4ba2-ab09-b98c9de74d34",
   "metadata": {},
   "source": [
    "# Multiple Linear Regression - Math, Intuition & Implementation from Scratch in Python\n",
    "This notebook follows a [youtube video](https://www.youtube.com/watch?v=fldD6fGmsQE) walkthrough. The below sections cover the python implementation of both Linear Regression and Multiple Linear Regression from scratch."
   ]
  },
  {
   "cell_type": "code",
   "execution_count": 1,
   "id": "1ebbfdc5-e504-4462-8c17-5302ca7013e4",
   "metadata": {},
   "outputs": [],
   "source": [
    "import numpy as np\n",
    "import matplotlib.pyplot as plt\n",
    "from sklearn.datasets import load_diabetes"
   ]
  },
  {
   "cell_type": "markdown",
   "id": "f17d97ba-15b0-4212-ab10-1da1010bf670",
   "metadata": {},
   "source": [
    "# Linear Regression"
   ]
  },
  {
   "cell_type": "markdown",
   "id": "c97ea860-1212-4713-ae06-4d79519de7dd",
   "metadata": {},
   "source": [
    "## Initialize some X, y, w, b\n",
    "First we will initialize a sample dataset given X input features and y output labels."
   ]
  },
  {
   "cell_type": "code",
   "execution_count": 2,
   "id": "536d6942-8fe4-4799-91ee-346096be3411",
   "metadata": {},
   "outputs": [
    {
     "data": {
      "text/plain": [
       "((3,), (3,))"
      ]
     },
     "execution_count": 2,
     "metadata": {},
     "output_type": "execute_result"
    }
   ],
   "source": [
    "X = np.array([1,3,4])\n",
    "y = np.array([2,4,8])\n",
    "X.shape, y.shape"
   ]
  },
  {
   "cell_type": "markdown",
   "id": "b1ea1eff-20ba-4edf-9b03-5112ca3bb87b",
   "metadata": {},
   "source": [
    "Next, initialize a random weight and bias value to make predictions using an untrained Linear Regression model."
   ]
  },
  {
   "cell_type": "code",
   "execution_count": 3,
   "id": "8a4ed3fe-b796-46a8-960b-14836eb8f784",
   "metadata": {},
   "outputs": [],
   "source": [
    "w = 1.5\n",
    "b = 1"
   ]
  },
  {
   "cell_type": "markdown",
   "id": "694157a6-6891-4f50-88a7-a6b650ecc14f",
   "metadata": {},
   "source": [
    "## Predict y_hat\n",
    "Now test our model parameters by inputting X into a `predict_y` function."
   ]
  },
  {
   "cell_type": "code",
   "execution_count": 4,
   "id": "4c7565f5-693c-4f71-bd07-918948207ea6",
   "metadata": {},
   "outputs": [],
   "source": [
    "def predict_y(X, w, b):\n",
    "    m = X.shape[0]\n",
    "    y_hat = np.zeros(m)\n",
    "\n",
    "    for i in range(m):\n",
    "        y_hat[i] = w * X[i] + b\n",
    "    return y_hat"
   ]
  },
  {
   "cell_type": "code",
   "execution_count": 5,
   "id": "f7e85489-b690-4f66-bfc0-4c586d01381b",
   "metadata": {},
   "outputs": [
    {
     "data": {
      "text/plain": [
       "(array([2.5, 5.5, 7. ]), array([2, 4, 8]))"
      ]
     },
     "execution_count": 5,
     "metadata": {},
     "output_type": "execute_result"
    }
   ],
   "source": [
    "predict_y(X, w, b), y"
   ]
  },
  {
   "cell_type": "markdown",
   "id": "69a54585-72bb-44bd-aa68-3d528463f960",
   "metadata": {},
   "source": [
    "Plot the true y values against the predicted y values."
   ]
  },
  {
   "cell_type": "code",
   "execution_count": 6,
   "id": "f1ea9524-f9e8-4a81-bcf7-9f35ae510910",
   "metadata": {},
   "outputs": [],
   "source": [
    "def plot_true_vs_preds(X, y, w, b):\n",
    "    y_hat = predict_y(X, w, b)\n",
    "    plt.figure(figsize=(4,3))\n",
    "    plt.scatter(X, y, label='y_true')\n",
    "    plt.plot(X, y_hat, label='y_hat')\n",
    "    plt.title('y_true vs y_hat')\n",
    "    plt.xlabel('X')\n",
    "    plt.ylabel('y')\n",
    "    plt.legend()"
   ]
  },
  {
   "cell_type": "code",
   "execution_count": 7,
   "id": "eb2fd403-066e-44fe-8bbf-5d37b4760bbc",
   "metadata": {},
   "outputs": [
    {
     "data": {
      "image/png": "[encoded data removed]",
      "text/plain": [
       "<Figure size 400x300 with 1 Axes>"
      ]
     },
     "metadata": {},
     "output_type": "display_data"
    }
   ],
   "source": [
    "plot_true_vs_preds(X, y, w, b)"
   ]
  },
  {
   "cell_type": "markdown",
   "id": "e10ffc64-b054-4cab-8007-4740d94060aa",
   "metadata": {},
   "source": [
    "## MSE Cost Function\n",
    "Linear Regression uses the Mean Squared Error (MSE) cost function. It divides the sum by `2m` rather than just `2` to clean up the partial derivates later on."
   ]
  },
  {
   "cell_type": "code",
   "execution_count": 8,
   "id": "1e1bc73e-b267-4a61-b8db-bf4213f18732",
   "metadata": {},
   "outputs": [],
   "source": [
    "def calc_mse(X, y, w, b):\n",
    "    m = X.shape[0]\n",
    "    y_hat = predict_y(X, w, b)\n",
    "    SE_sum = np.sum((y_hat - y)**2)\n",
    "    MSE = SE_sum / (2. * m)\n",
    "    return MSE"
   ]
  },
  {
   "cell_type": "code",
   "execution_count": 9,
   "id": "ee10f24b-07ad-46f1-942c-049c1ba2c146",
   "metadata": {},
   "outputs": [
    {
     "data": {
      "text/plain": [
       "0.5833333333333334"
      ]
     },
     "execution_count": 9,
     "metadata": {},
     "output_type": "execute_result"
    }
   ],
   "source": [
    "calc_mse(X, y, w, b)"
   ]
  },
  {
   "cell_type": "markdown",
   "id": "08f8534b-25a9-41f5-bdc7-74c37033c972",
   "metadata": {},
   "source": [
    "## Gradient Descent\n",
    "For a single gradient step, first calculate the gradient (AKA, the partial derivatives for the weight and bias)."
   ]
  },
  {
   "cell_type": "code",
   "execution_count": 10,
   "id": "7e204bf7-7589-4c43-99e6-bb5af74315dc",
   "metadata": {},
   "outputs": [],
   "source": [
    "def calc_gradient(X, y, w, b):\n",
    "    m = X.shape[0]\n",
    "\n",
    "    dj_dw = 0\n",
    "    dj_db = 0\n",
    "\n",
    "    for i in range(m):\n",
    "        err = w * X[i] + b - y[i]\n",
    "        dj_dw += err * X[i]\n",
    "        dj_db += err\n",
    "\n",
    "    dj_dw /= m\n",
    "    dj_db /= m\n",
    "\n",
    "    return dj_dw, dj_db"
   ]
  },
  {
   "cell_type": "markdown",
   "id": "44f58583-b52f-4d28-bed1-9abe1271cb86",
   "metadata": {},
   "source": [
    "Apply a single gradient step with an alpha (learning rate)."
   ]
  },
  {
   "cell_type": "code",
   "execution_count": 11,
   "id": "3ec94ec3-a169-44b9-8489-24a249366b30",
   "metadata": {},
   "outputs": [
    {
     "name": "stdout",
     "output_type": "stream",
     "text": [
      "Cost Before: 0.5833333333333334\n",
      "Cost After: 0.5811944444444447\n"
     ]
    }
   ],
   "source": [
    "alpha = 0.01\n",
    "\n",
    "dj_dw, dj_db = calc_gradient(X, y, w, b)\n",
    "\n",
    "w_new = w - alpha * dj_dw\n",
    "b_new = b - alpha * dj_db\n",
    "\n",
    "print(f\"Cost Before: {calc_mse(X, y, w, b)}\")\n",
    "print(f\"Cost After: {calc_mse(X, y, w_new, b_new)}\")"
   ]
  },
  {
   "cell_type": "markdown",
   "id": "a6551f2b-743c-4c2b-bf48-841492bb027a",
   "metadata": {},
   "source": [
    "Perform gradient descent. Apply the gradient step to the weight and bias over 1000 iterations."
   ]
  },
  {
   "cell_type": "code",
   "execution_count": 12,
   "id": "a5630a0b-a3b1-442b-9d7e-9da861b1c94d",
   "metadata": {},
   "outputs": [],
   "source": [
    "def gradient_descent(X, y, w, b, n_iters=1000, alpha=0.01, history_interval=100):\n",
    "    m = X.shape[0]\n",
    "\n",
    "    history = {}\n",
    "\n",
    "    for iter in range(n_iters):\n",
    "        dj_dw, dj_db = calc_gradient(X, y, w, b)\n",
    "        w -= alpha * dj_dw\n",
    "        b -= alpha * dj_db\n",
    "\n",
    "        if iter % history_interval == 0:\n",
    "            cost = calc_mse(X, y, w, b)\n",
    "            history[iter] = cost\n",
    "            print(f\"Iter\\t{iter}\\tCost\\t{cost}\")\n",
    "\n",
    "    return history, w, b"
   ]
  },
  {
   "cell_type": "code",
   "execution_count": 13,
   "id": "e95d6ea2-66df-4263-ac19-82b8510f5049",
   "metadata": {},
   "outputs": [
    {
     "name": "stdout",
     "output_type": "stream",
     "text": [
      "Iter\t0\tCost\t0.5811944444444447\n",
      "Iter\t100\tCost\t0.5331333459418242\n",
      "Iter\t200\tCost\t0.5039202524118163\n",
      "Iter\t300\tCost\t0.4828688764164708\n",
      "Iter\t400\tCost\t0.4676989516331069\n",
      "Iter\t500\tCost\t0.45676728531429633\n",
      "Iter\t600\tCost\t0.4488897690963613\n",
      "Iter\t700\tCost\t0.4432131174355751\n",
      "Iter\t800\tCost\t0.4391224404777116\n",
      "Iter\t900\tCost\t0.43617463973644127\n"
     ]
    }
   ],
   "source": [
    "history, w_new, b_new = gradient_descent(X, y, w, b)"
   ]
  },
  {
   "cell_type": "markdown",
   "id": "b82d53d8-1bac-4ace-9ee6-585e033e0874",
   "metadata": {},
   "source": [
    "Plot the cost of our weight and bias over the training history."
   ]
  },
  {
   "cell_type": "code",
   "execution_count": 14,
   "id": "7e642d09-eaef-4693-98ef-47391fca509e",
   "metadata": {},
   "outputs": [],
   "source": [
    "def plot_history(history):\n",
    "    plt.figure(figsize=(4,3))\n",
    "    plt.plot(history.keys(), history.values())\n",
    "    plt.title('Cost History')\n",
    "    plt.xlabel('Iteration')\n",
    "    plt.ylabel('Cost')\n",
    "    plt.show()"
   ]
  },
  {
   "cell_type": "code",
   "execution_count": 15,
   "id": "9556dd39-0095-4e60-9170-6eeb6c1bc067",
   "metadata": {},
   "outputs": [
    {
     "data": {
      "image/png": "[encoded data removed]",
      "text/plain": [
       "<Figure size 400x300 with 1 Axes>"
      ]
     },
     "metadata": {},
     "output_type": "display_data"
    }
   ],
   "source": [
    "plot_history(history)"
   ]
  },
  {
   "cell_type": "markdown",
   "id": "cd825b49-8828-47a5-aa34-8231f2883b89",
   "metadata": {},
   "source": [
    "## Model Evaluation\n",
    "Evaluate how well our model predicts `y` with the trained model."
   ]
  },
  {
   "cell_type": "code",
   "execution_count": 16,
   "id": "8e5a0ded-f113-4391-acd2-faa31e16868f",
   "metadata": {},
   "outputs": [
    {
     "data": {
      "text/plain": [
       "Text(0.5, 1.0, 'Old vs New Predictions')"
      ]
     },
     "execution_count": 16,
     "metadata": {},
     "output_type": "execute_result"
    },
    {
     "data": {
      "image/png": "[encoded data removed]",
      "text/plain": [
       "<Figure size 400x300 with 1 Axes>"
      ]
     },
     "metadata": {},
     "output_type": "display_data"
    }
   ],
   "source": [
    "y_hat_old = predict_y(X, w, b)\n",
    "y_hat_new = predict_y(X, w_new, b_new)\n",
    "\n",
    "plt.figure(figsize=(4,3))\n",
    "plt.scatter(X, y, label='y_true', color='b')\n",
    "plt.plot(X, y_hat_old, label='old_preds', color='r')\n",
    "plt.plot(X, y_hat_new, label='new_preds', color='g')\n",
    "plt.xlabel('X')\n",
    "plt.ylabel('y')\n",
    "plt.legend()\n",
    "plt.title('Old vs New Predictions')"
   ]
  },
  {
   "cell_type": "markdown",
   "id": "46a0d3fa-9acf-42ff-8c5c-4e50988ddbf2",
   "metadata": {},
   "source": [
    "## Fitting More Data with Linear Regression\n",
    "Create a new dataset with several training examples and fit a model to it."
   ]
  },
  {
   "cell_type": "code",
   "execution_count": 17,
   "id": "6a8116ea-aec7-494b-b31c-6d30de0ad49f",
   "metadata": {},
   "outputs": [],
   "source": [
    "m = 20\n",
    "target_w = 3.3\n",
    "target_b = -1.2\n",
    "X = np.random.uniform(-5,5,m)\n",
    "noise = np.random.uniform(-3,3,m)\n",
    "y = X * target_w + target_b + noise"
   ]
  },
  {
   "cell_type": "code",
   "execution_count": 18,
   "id": "7b38535c-cfaf-4a39-a5ce-27187f2c5a33",
   "metadata": {},
   "outputs": [
    {
     "data": {
      "text/plain": [
       "Text(0, 0.5, 'y')"
      ]
     },
     "execution_count": 18,
     "metadata": {},
     "output_type": "execute_result"
    },
    {
     "data": {
      "image/png": "[encoded data removed]",
      "text/plain": [
       "<Figure size 400x300 with 1 Axes>"
      ]
     },
     "metadata": {},
     "output_type": "display_data"
    }
   ],
   "source": [
    "plt.figure(figsize=(4,3))\n",
    "plt.title('Example Dataset')\n",
    "plt.scatter(X, y)\n",
    "plt.xlabel('X')\n",
    "plt.ylabel('y')"
   ]
  },
  {
   "cell_type": "code",
   "execution_count": 19,
   "id": "6cfc0d53-6ca6-4a93-a027-889919c624cc",
   "metadata": {
    "scrolled": true
   },
   "outputs": [
    {
     "name": "stdout",
     "output_type": "stream",
     "text": [
      "Iter\t0\tCost\t36.95473156433895\n",
      "Iter\t100\tCost\t1.4283289743000385\n",
      "Iter\t200\tCost\t1.3863805988635156\n",
      "Iter\t300\tCost\t1.380760442258554\n",
      "Iter\t400\tCost\t1.380007440655299\n",
      "Iter\t500\tCost\t1.3799065517558673\n",
      "Iter\t600\tCost\t1.3798930344273717\n",
      "Iter\t700\tCost\t1.3798912233443819\n",
      "Iter\t800\tCost\t1.3798909806912865\n",
      "Iter\t900\tCost\t1.379890948180063\n"
     ]
    }
   ],
   "source": [
    "w_init = 0\n",
    "b_init = 0\n",
    "history, w, b = gradient_descent(X, y, w_init, b_init)"
   ]
  },
  {
   "cell_type": "code",
   "execution_count": 20,
   "id": "5d4b6a07-f295-4b16-9e06-15ff80e3b6c9",
   "metadata": {},
   "outputs": [
    {
     "data": {
      "text/plain": [
       "<matplotlib.legend.Legend at 0x20dff9d85e0>"
      ]
     },
     "execution_count": 20,
     "metadata": {},
     "output_type": "execute_result"
    },
    {
     "data": {
      "image/png": "[encoded data removed]",
      "text/plain": [
       "<Figure size 400x300 with 1 Axes>"
      ]
     },
     "metadata": {},
     "output_type": "display_data"
    }
   ],
   "source": [
    "plt.figure(figsize=(4,3))\n",
    "plt.scatter(X, y, label='y_true', color='b')\n",
    "plt.plot(X, predict_y(X, w, b), label='y_hat', color='r')\n",
    "plt.title(\"True vs Preds\")\n",
    "plt.xlabel('X')\n",
    "plt.ylabel('y')\n",
    "plt.legend()"
   ]
  },
  {
   "cell_type": "code",
   "execution_count": 21,
   "id": "526cc799-e2e7-4dd4-b53c-85125c88561c",
   "metadata": {},
   "outputs": [
    {
     "data": {
      "text/plain": [
       "(3.1971979392655636, -0.8551398983357845)"
      ]
     },
     "execution_count": 21,
     "metadata": {},
     "output_type": "execute_result"
    }
   ],
   "source": [
    "w, b"
   ]
  },
  {
   "cell_type": "markdown",
   "id": "8524d60b-1795-41bc-9ab6-5789f99c73d9",
   "metadata": {},
   "source": [
    "# Multiple Linear Regression\n",
    "With Linear Regression done and working, this section will cover Multiple Linear Regression."
   ]
  },
  {
   "cell_type": "markdown",
   "id": "1f1b285c-2907-42b8-8b4e-ea957b2ed634",
   "metadata": {},
   "source": [
    "## Initialize X, y, w, b\n",
    "Like before, initialize our dataset and model parameters."
   ]
  },
  {
   "cell_type": "code",
   "execution_count": 22,
   "id": "837985e1-1d89-42ec-997c-9ff0496b0216",
   "metadata": {},
   "outputs": [
    {
     "data": {
      "text/plain": [
       "((4, 2), (4,))"
      ]
     },
     "execution_count": 22,
     "metadata": {},
     "output_type": "execute_result"
    }
   ],
   "source": [
    "X = np.array([\n",
    "    [1,2],\n",
    "    [2,1],\n",
    "    [3,1],\n",
    "    [1,3]\n",
    "])\n",
    "\n",
    "y = np.array([3,6,8,7])\n",
    "X.shape, y.shape"
   ]
  },
  {
   "cell_type": "code",
   "execution_count": 23,
   "id": "4132f4a9-7e20-42ad-800c-1b0e1adcce99",
   "metadata": {},
   "outputs": [],
   "source": [
    "w = np.array([3,2])\n",
    "b = -2"
   ]
  },
  {
   "cell_type": "markdown",
   "id": "f63e1670-3f31-41bc-b076-3a797ed1ac0d",
   "metadata": {},
   "source": [
    "## Predict y_hat\n",
    "Created an updated prediction function using multiple features and the dot product."
   ]
  },
  {
   "cell_type": "code",
   "execution_count": 24,
   "id": "8109a8d2-d9dc-4def-88b3-c2830680357c",
   "metadata": {},
   "outputs": [],
   "source": [
    "def predict_y(X, w, b):\n",
    "    m = X.shape[0]\n",
    "\n",
    "    y_hat = np.zeros(m)\n",
    "\n",
    "    for i in range(m):\n",
    "        y_hat[i] = np.dot(w, X[i]) + b\n",
    "    return y_hat"
   ]
  },
  {
   "cell_type": "code",
   "execution_count": 25,
   "id": "1ad7ba09-5515-4905-9ef2-86dab8245ce5",
   "metadata": {},
   "outputs": [
    {
     "data": {
      "text/plain": [
       "(array([5., 6., 9., 7.]), array([3, 6, 8, 7]))"
      ]
     },
     "execution_count": 25,
     "metadata": {},
     "output_type": "execute_result"
    }
   ],
   "source": [
    "y_hat = predict_y(X, w, b)\n",
    "y_hat, y"
   ]
  },
  {
   "cell_type": "code",
   "execution_count": 26,
   "id": "f5a7bc18-1e3b-4523-a962-1a0169f32f50",
   "metadata": {},
   "outputs": [],
   "source": [
    "def plot_true_vs_preds(X, y, w, b):\n",
    "    y_hat = predict_y(X, w, b)\n",
    "    Xpts = np.arange(0, X.shape[0])\n",
    "    plt.figure(figsize=(4,3))\n",
    "    plt.scatter(Xpts, y_hat, marker='o', color='g', label='y_hat')\n",
    "    plt.scatter(Xpts, y, marker='x', color='b', label='y_true')\n",
    "    plt.title('y_hat vs y_true')\n",
    "    plt.xlabel('X')\n",
    "    plt.ylabel('y')\n",
    "    plt.legend()"
   ]
  },
  {
   "cell_type": "code",
   "execution_count": 27,
   "id": "0704020b-0a61-413c-9bbb-b0bcc8d38014",
   "metadata": {},
   "outputs": [
    {
     "data": {
      "image/png": "[encoded data removed]",
      "text/plain": [
       "<Figure size 400x300 with 1 Axes>"
      ]
     },
     "metadata": {},
     "output_type": "display_data"
    }
   ],
   "source": [
    "plot_true_vs_preds(X, y, w, b)"
   ]
  },
  {
   "cell_type": "markdown",
   "id": "3a9d078e-259f-4f45-b83a-58c1a109cff7",
   "metadata": {},
   "source": [
    "## MSE Cost Function\n",
    "Apply the new cost function that uses the updated `predict_y` function."
   ]
  },
  {
   "cell_type": "code",
   "execution_count": 28,
   "id": "a35fdf80-122b-4c5e-bf0a-65a2dad5604d",
   "metadata": {},
   "outputs": [],
   "source": [
    "def calc_mse(X, y, w, b):\n",
    "    m = X.shape[0]\n",
    "\n",
    "    y_hat = predict_y(X, w, b)\n",
    "    sum = np.sum((y_hat-y)**2)\n",
    "    res = sum / (2. * m)\n",
    "    return res"
   ]
  },
  {
   "cell_type": "code",
   "execution_count": 29,
   "id": "b1f1c0a1-7900-40d1-89a4-c17f4d23e7b7",
   "metadata": {},
   "outputs": [
    {
     "data": {
      "text/plain": [
       "0.625"
      ]
     },
     "execution_count": 29,
     "metadata": {},
     "output_type": "execute_result"
    }
   ],
   "source": [
    "calc_mse(X, y, w, b)"
   ]
  },
  {
   "cell_type": "markdown",
   "id": "16af240c-dfc4-4741-8a5c-8ed88bedefa4",
   "metadata": {},
   "source": [
    "## Gradient Descent\n",
    "Calculate the gradient of the cost function given multiple features.\n",
    "> Note: The function below was previously `gradient_step` in the video but is now rewritted as `calculate_gradient`"
   ]
  },
  {
   "cell_type": "code",
   "execution_count": 30,
   "id": "227bed15-0bd8-4c3f-9d9f-8daec91a5659",
   "metadata": {},
   "outputs": [],
   "source": [
    "def calculate_gradient(X, y, w, b):\n",
    "    m = X.shape[0]\n",
    "    n = X.shape[1]\n",
    "\n",
    "    dj_dw = np.zeros(n)\n",
    "    dj_db = 0\n",
    "\n",
    "    for i in range(m):\n",
    "        err = np.dot(w, X[i]) + b - y[i]\n",
    "        # for j in range(n):\n",
    "        #     dj_dw[j] += err * X[i, j]\n",
    "        dj_dw += err * X[i]\n",
    "        dj_db += err\n",
    "\n",
    "    dj_dw /= m\n",
    "    dj_db /= m\n",
    "    \n",
    "    return dj_dw, dj_db"
   ]
  },
  {
   "cell_type": "code",
   "execution_count": 31,
   "id": "949284aa-1e88-48f2-96bd-57e54c35e5da",
   "metadata": {},
   "outputs": [
    {
     "name": "stdout",
     "output_type": "stream",
     "text": [
      "Cost Before: 0.625\n",
      "Cost After: 0.5894578125\n"
     ]
    }
   ],
   "source": [
    "alpha = 0.01\n",
    "\n",
    "dj_dw, dj_db = calculate_gradient(X, y, w, b)\n",
    "w_new = w - alpha * dj_dw\n",
    "b_new = b - alpha * dj_db\n",
    "\n",
    "print(f\"Cost Before: {calc_mse(X, y, w, b)}\")\n",
    "print(f\"Cost After: {calc_mse(X, y, w_new, b_new)}\")"
   ]
  },
  {
   "cell_type": "markdown",
   "id": "7086f1ef-3302-4ec9-a014-9f885e5225af",
   "metadata": {},
   "source": [
    "Write a function for the gradient descent algorithm over multiple generations."
   ]
  },
  {
   "cell_type": "code",
   "execution_count": 32,
   "id": "88bb522c-27fc-401e-b923-1b6000f84174",
   "metadata": {},
   "outputs": [],
   "source": [
    "def gradient_descent(X, y, w, b, n_iters=1000, alpha=0.01, history_interval=100):\n",
    "    m = X.shape[0]\n",
    "\n",
    "    history = {}\n",
    "\n",
    "    for iter in range(n_iters):\n",
    "        dj_dw, dj_db = calculate_gradient(X, y, w, b)\n",
    "        w = w - alpha * dj_dw\n",
    "        b = b - alpha * dj_db\n",
    "\n",
    "        if iter % history_interval == 0:\n",
    "            cost = calc_mse(X, y, w, b)\n",
    "            history[iter] = cost\n",
    "            print(f\"Iteration\\t{iter}\\tCost\\t{cost}\")\n",
    "\n",
    "    return history, w, b"
   ]
  },
  {
   "cell_type": "code",
   "execution_count": 33,
   "id": "83eb1f0a-3c43-4fa3-b919-0cefa7aa87a4",
   "metadata": {},
   "outputs": [
    {
     "name": "stdout",
     "output_type": "stream",
     "text": [
      "Iteration\t0\tCost\t0.5894578125\n",
      "Iteration\t100\tCost\t0.36823951957889617\n",
      "Iteration\t200\tCost\t0.36634556681700137\n",
      "Iteration\t300\tCost\t0.36451602962844637\n",
      "Iteration\t400\tCost\t0.36274865552077584\n",
      "Iteration\t500\tCost\t0.3610413323485339\n",
      "Iteration\t600\tCost\t0.3593920197316842\n",
      "Iteration\t700\tCost\t0.3577987466171816\n",
      "Iteration\t800\tCost\t0.3562596089234168\n",
      "Iteration\t900\tCost\t0.3547727672646914\n"
     ]
    }
   ],
   "source": [
    "history, w_new, b_new = gradient_descent(X, y, w, b)"
   ]
  },
  {
   "cell_type": "markdown",
   "id": "79b66a41-fb86-4456-9f99-d3aa63092376",
   "metadata": {},
   "source": [
    "Observe the training history and results."
   ]
  },
  {
   "cell_type": "code",
   "execution_count": 34,
   "id": "efa5cb89-edcd-474f-82ad-bf68dd1df75f",
   "metadata": {},
   "outputs": [
    {
     "data": {
      "image/png": "[encoded data removed]",
      "text/plain": [
       "<Figure size 400x300 with 1 Axes>"
      ]
     },
     "metadata": {},
     "output_type": "display_data"
    }
   ],
   "source": [
    "plot_history(history)"
   ]
  },
  {
   "cell_type": "code",
   "execution_count": 35,
   "id": "c0685736-d83f-4f0f-9aae-9049d9280c38",
   "metadata": {},
   "outputs": [
    {
     "data": {
      "image/png": "[encoded data removed]",
      "text/plain": [
       "<Figure size 400x300 with 1 Axes>"
      ]
     },
     "metadata": {},
     "output_type": "display_data"
    }
   ],
   "source": [
    "plot_true_vs_preds(X, y, w_new, b_new)"
   ]
  },
  {
   "cell_type": "code",
   "execution_count": 36,
   "id": "dad5927a-0218-4450-8a2e-ba934cc4dbf2",
   "metadata": {},
   "outputs": [
    {
     "data": {
      "image/png": "[encoded data removed]",
      "text/plain": [
       "<Figure size 400x300 with 1 Axes>"
      ]
     },
     "metadata": {},
     "output_type": "display_data"
    }
   ],
   "source": [
    "plot_true_vs_preds(X, y, w, b)"
   ]
  },
  {
   "cell_type": "markdown",
   "id": "9b9f1694-541c-40c9-a5b7-c5304ba7afd7",
   "metadata": {},
   "source": [
    "## Using Diabetes Dataset\n",
    "Apply the Diabetes dataset from Scikit-learn to Multiple Linear Regression"
   ]
  },
  {
   "cell_type": "code",
   "execution_count": 37,
   "id": "1b68c535-2f8b-4fb1-aa7b-d2348a3006af",
   "metadata": {},
   "outputs": [
    {
     "data": {
      "text/plain": [
       "((442, 10), (442,))"
      ]
     },
     "execution_count": 37,
     "metadata": {},
     "output_type": "execute_result"
    }
   ],
   "source": [
    "dataset = load_diabetes()\n",
    "X = dataset.data\n",
    "y = dataset.target\n",
    "X.shape, y.shape"
   ]
  },
  {
   "cell_type": "code",
   "execution_count": 38,
   "id": "8777da5a-fb7d-4d5f-a373-6b2e33e81e3d",
   "metadata": {},
   "outputs": [
    {
     "data": {
      "text/plain": [
       "array([ 0.03807591,  0.05068012,  0.06169621,  0.02187239, -0.0442235 ,\n",
       "       -0.03482076, -0.04340085, -0.00259226,  0.01990749, -0.01764613])"
      ]
     },
     "execution_count": 38,
     "metadata": {},
     "output_type": "execute_result"
    }
   ],
   "source": [
    "X[0]"
   ]
  },
  {
   "cell_type": "code",
   "execution_count": 39,
   "id": "5fce7d11-fb60-4277-ad67-509631c488d0",
   "metadata": {},
   "outputs": [
    {
     "data": {
      "text/plain": [
       "(25.0, 346.0, 77.00574586945044)"
      ]
     },
     "execution_count": 39,
     "metadata": {},
     "output_type": "execute_result"
    }
   ],
   "source": [
    "min(y), max(y), y.std()"
   ]
  },
  {
   "cell_type": "code",
   "execution_count": 40,
   "id": "97c6dabc-c169-4314-8935-868e9eae6a3f",
   "metadata": {},
   "outputs": [
    {
     "name": "stdout",
     "output_type": "stream",
     "text": [
      "Iteration\t0\tCost\t12336.547765870786\n",
      "Iteration\t100\tCost\t2782.489758994427\n",
      "Iteration\t200\tCost\t2628.7104617566306\n",
      "Iteration\t300\tCost\t2497.3595449594336\n",
      "Iteration\t400\tCost\t2384.854549915675\n",
      "Iteration\t500\tCost\t2288.2019653256484\n",
      "Iteration\t600\tCost\t2204.8995412321424\n",
      "Iteration\t700\tCost\t2132.854855265299\n",
      "Iteration\t800\tCost\t2070.3174202143937\n",
      "Iteration\t900\tCost\t2015.8220788947174\n"
     ]
    }
   ],
   "source": [
    "w = np.zeros(X.shape[1])\n",
    "b = 0\n",
    "history, w, b = gradient_descent(X, y, w, b, alpha=0.1)"
   ]
  },
  {
   "cell_type": "code",
   "execution_count": 41,
   "id": "f8be1252-9302-456b-816b-c123e4cb5054",
   "metadata": {},
   "outputs": [
    {
     "data": {
      "image/png": "[encoded data removed]",
      "text/plain": [
       "<Figure size 400x300 with 1 Axes>"
      ]
     },
     "metadata": {},
     "output_type": "display_data"
    }
   ],
   "source": [
    "plot_history(history)"
   ]
  },
  {
   "cell_type": "code",
   "execution_count": 42,
   "id": "154b4f7d-3d1d-4c1e-a771-954dd42ac772",
   "metadata": {},
   "outputs": [
    {
     "data": {
      "text/plain": [
       "(array([168.82351966, 109.95887833, 160.22688525, 153.29356094,\n",
       "        139.65648937, 108.38326215, 121.38550649, 162.48897233,\n",
       "        159.86792305, 161.77385555]),\n",
       " array([151.,  75., 141., 206., 135.,  97., 138.,  63., 110., 310.]))"
      ]
     },
     "execution_count": 42,
     "metadata": {},
     "output_type": "execute_result"
    }
   ],
   "source": [
    "y_hat = predict_y(X, w, b)\n",
    "y_hat[:10], y[:10]"
   ]
  },
  {
   "cell_type": "code",
   "execution_count": 43,
   "id": "f1ffbc98-c5ee-499f-8021-0ef184ad34cb",
   "metadata": {},
   "outputs": [
    {
     "data": {
      "image/png": "[encoded data removed]",
      "text/plain": [
       "<Figure size 400x300 with 1 Axes>"
      ]
     },
     "metadata": {},
     "output_type": "display_data"
    }
   ],
   "source": [
    "plot_true_vs_preds(X[:10], y[:10], w, b)"
   ]
  },
  {
   "cell_type": "code",
   "execution_count": null,
   "id": "8b527987-728d-4d3a-9756-cd2a60fc21d4",
   "metadata": {},
   "outputs": [],
   "source": []
  }
 ],
 "metadata": {
  "kernelspec": {
   "display_name": "Python 3 (ipykernel)",
   "language": "python",
   "name": "python3"
  },
  "language_info": {
   "codemirror_mode": {
    "name": "ipython",
    "version": 3
   },
   "file_extension": ".py",
   "mimetype": "text/x-python",
   "name": "python",
   "nbconvert_exporter": "python",
   "pygments_lexer": "ipython3",
   "version": "3.10.6"
  }
 },
 "nbformat": 4,
 "nbformat_minor": 5
}
